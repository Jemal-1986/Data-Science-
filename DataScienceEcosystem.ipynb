{
 "cells": [
  {
   "cell_type": "markdown",
   "id": "533f9d13-8478-4f9b-a227-cb2315fb5f5d",
   "metadata": {},
   "source": [
    "# Data Science Tools and Ecosystem"
   ]
  },
  {
   "cell_type": "markdown",
   "id": "34b14f41-e2ad-4f99-aca7-5d21ccf4aa44",
   "metadata": {},
   "source": [
    "In this notebook, Data Science Tools and Ecosystem are summarized."
   ]
  },
  {
   "cell_type": "markdown",
   "id": "0c1c4f90-263a-48de-8b92-edd130f7d554",
   "metadata": {},
   "source": [
    "Some of the popular languages that Data Scientists use are:"
   ]
  },
  {
   "cell_type": "markdown",
   "id": "1e524f9d-6f90-4ab5-9c57-aa16f33462cd",
   "metadata": {},
   "source": [
    "1. Python\n",
    "2. SQL\n",
    "3. R\n",
    "4. JavaScript\n",
    "5. Julia"
   ]
  },
  {
   "cell_type": "markdown",
   "id": "b0d02d85-ae09-4ff3-9abb-14a2d1ae4eae",
   "metadata": {},
   "source": [
    "Some of the commonly used libraries used by Data Scientists include:"
   ]
  },
  {
   "cell_type": "markdown",
   "id": "18db5e0d-8a8a-417e-b24b-494063e81dde",
   "metadata": {},
   "source": [
    "1. Numpy\n",
    "2. Pandas\n",
    "3. Matplotlib\n",
    "4. TensorFlow\n",
    "5. SciPy"
   ]
  },
  {
   "cell_type": "markdown",
   "id": "d6175e5f-db34-49b9-9515-a2322e4c7ac5",
   "metadata": {},
   "source": [
    "|Data Science Tools|\n",
    "--------------------\n",
    "|Hadoop|\n",
    "|Pandas|\n",
    "|Spark|"
   ]
  },
  {
   "cell_type": "code",
   "execution_count": 41,
   "id": "923bd5a2-4453-41c7-adbb-bf112b20d977",
   "metadata": {},
   "outputs": [
    {
     "data": {
      "text/plain": [
       "17"
      ]
     },
     "execution_count": 41,
     "metadata": {},
     "output_type": "execute_result"
    }
   ],
   "source": [
    "# This a simple arithmetic expression to mutiply then add integers\n",
    "(3*4)+5"
   ]
  },
  {
   "cell_type": "code",
   "execution_count": 34,
   "id": "29e3f497-5a92-4f16-9322-bb81ba30816d",
   "metadata": {},
   "outputs": [
    {
     "data": {
      "text/plain": [
       "3.3333333333333335"
      ]
     },
     "execution_count": 34,
     "metadata": {},
     "output_type": "execute_result"
    }
   ],
   "source": [
    "# This will convert 200 minutes to hours by diving by 60\n",
    "200/60"
   ]
  },
  {
   "cell_type": "markdown",
   "id": "b07ff334-9437-4578-8559-33a96e3eedfd",
   "metadata": {},
   "source": [
    "**Objectives:**\n",
    "- Add comment to codes\n",
    "- Create markdown cells\n",
    "- Add ordered and unordered lists to markdown cells\n",
    "- Formant content of markdown cells with heading styles "
   ]
  },
  {
   "cell_type": "markdown",
   "id": "ec53f7eb-95f2-4107-b519-b08a998b723c",
   "metadata": {},
   "source": [
    "## Author"
   ]
  },
  {
   "cell_type": "markdown",
   "id": "eb495b26-7a8c-4199-b4f8-80cf0a3a00f2",
   "metadata": {},
   "source": [
    "Jemal"
   ]
  }
 ],
 "metadata": {
  "kernelspec": {
   "display_name": "Python 3 (ipykernel)",
   "language": "python",
   "name": "python3"
  },
  "language_info": {
   "codemirror_mode": {
    "name": "ipython",
    "version": 3
   },
   "file_extension": ".py",
   "mimetype": "text/x-python",
   "name": "python",
   "nbconvert_exporter": "python",
   "pygments_lexer": "ipython3",
   "version": "3.12.4"
  }
 },
 "nbformat": 4,
 "nbformat_minor": 5
}
